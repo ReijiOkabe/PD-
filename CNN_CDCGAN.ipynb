{
 "cells": [
  {
   "cell_type": "code",
   "execution_count": 1,
   "id": "ca45cc10",
   "metadata": {
    "scrolled": true
   },
   "outputs": [
    {
     "name": "stdout",
     "output_type": "stream",
     "text": [
      "Model: \"sequential\"\n",
      "_________________________________________________________________\n",
      " Layer (type)                Output Shape              Param #   \n",
      "=================================================================\n",
      " conv2d (Conv2D)             (None, 26, 26, 32)        320       \n",
      "                                                                 \n",
      " max_pooling2d (MaxPooling2D  (None, 13, 13, 32)       0         \n",
      " )                                                               \n",
      "                                                                 \n",
      " conv2d_1 (Conv2D)           (None, 11, 11, 64)        18496     \n",
      "                                                                 \n",
      " max_pooling2d_1 (MaxPooling  (None, 5, 5, 64)         0         \n",
      " 2D)                                                             \n",
      "                                                                 \n",
      " flatten (Flatten)           (None, 1600)              0         \n",
      "                                                                 \n",
      " dense (Dense)               (None, 128)               204928    \n",
      "                                                                 \n",
      " dense_1 (Dense)             (None, 10)                1290      \n",
      "                                                                 \n",
      "=================================================================\n",
      "Total params: 225,034\n",
      "Trainable params: 225,034\n",
      "Non-trainable params: 0\n",
      "_________________________________________________________________\n"
     ]
    }
   ],
   "source": [
    "from keras.datasets import mnist\n",
    "from keras.models import Sequential\n",
    "from keras.layers import Dense, Flatten, Conv2D, MaxPooling2D\n",
    "from keras.utils import to_categorical\n",
    "import matplotlib.pyplot as plt\n",
    "import numpy as np\n",
    "# データをロード\n",
    "(X_train, y_train), (X_test, y_test) = mnist.load_data()\n",
    "# データを前処理z\n",
    "X_train = X_train.reshape(X_train.shape[0], 28, 28, 1)\n",
    "X_test = X_test.reshape(X_test.shape[0], 28, 28, 1)\n",
    "X_train = X_train.astype('float32')\n",
    "X_test = X_test.astype('float32')\n",
    "X_train /= 255\n",
    "X_test /= 255\n",
    "y_train = to_categorical(y_train, 10)\n",
    "y_test = to_categorical(y_test, 10)\n",
    "\n",
    "# ピクセルの値を 0~1 の間に正規化\n",
    "X_train= X_train / 255.0\n",
    "\n",
    "# CNNを定義\n",
    "model = Sequential()\n",
    "model.add(Conv2D(32, kernel_size=(3, 3), activation='relu', input_shape=(28, 28, 1)))\n",
    "model.add(MaxPooling2D(pool_size=(2, 2)))\n",
    "model.add(Conv2D(64, kernel_size=(3, 3), activation='relu'))\n",
    "model.add(MaxPooling2D(pool_size=(2, 2)))\n",
    "model.add(Flatten())\n",
    "model.add(Dense(128, activation='relu'))\n",
    "model.add(Dense(10, activation='softmax'))\n",
    "\n",
    "model.summary()\n"
   ]
  },
  {
   "cell_type": "code",
   "execution_count": 2,
   "id": "aaa8ca4b",
   "metadata": {},
   "outputs": [
    {
     "name": "stdout",
     "output_type": "stream",
     "text": [
      "Epoch 1/10\n",
      "469/469 [==============================] - 18s 38ms/step - loss: 0.9772 - accuracy: 0.6911 - val_loss: 51.5074 - val_accuracy: 0.8437\n",
      "Epoch 2/10\n",
      "469/469 [==============================] - 18s 39ms/step - loss: 0.3399 - accuracy: 0.8955 - val_loss: 32.7837 - val_accuracy: 0.9020\n",
      "Epoch 3/10\n",
      "469/469 [==============================] - 18s 39ms/step - loss: 0.2471 - accuracy: 0.9259 - val_loss: 24.7609 - val_accuracy: 0.9207\n",
      "Epoch 4/10\n",
      "469/469 [==============================] - 18s 38ms/step - loss: 0.1795 - accuracy: 0.9463 - val_loss: 23.1126 - val_accuracy: 0.9295\n",
      "Epoch 5/10\n",
      "469/469 [==============================] - 18s 39ms/step - loss: 0.1378 - accuracy: 0.9578 - val_loss: 28.9664 - val_accuracy: 0.9212\n",
      "Epoch 6/10\n",
      "469/469 [==============================] - 18s 39ms/step - loss: 0.1116 - accuracy: 0.9661 - val_loss: 34.0246 - val_accuracy: 0.9134\n",
      "Epoch 7/10\n",
      "469/469 [==============================] - 19s 41ms/step - loss: 0.0964 - accuracy: 0.9710 - val_loss: 35.7197 - val_accuracy: 0.9141\n",
      "Epoch 8/10\n",
      "469/469 [==============================] - 19s 40ms/step - loss: 0.0842 - accuracy: 0.9747 - val_loss: 38.0741 - val_accuracy: 0.9187\n",
      "Epoch 9/10\n",
      "469/469 [==============================] - 19s 42ms/step - loss: 0.0758 - accuracy: 0.9772 - val_loss: 35.0773 - val_accuracy: 0.9224\n",
      "Epoch 10/10\n",
      "469/469 [==============================] - 19s 41ms/step - loss: 0.0692 - accuracy: 0.9787 - val_loss: 58.3866 - val_accuracy: 0.8832\n",
      "Test loss: 58.38658142089844\n",
      "Test accuracy: 0.8831999897956848\n"
     ]
    }
   ],
   "source": [
    "\n",
    "# CNNをトレーニング\n",
    "model.compile(loss='categorical_crossentropy', optimizer='adam', metrics=['accuracy'])\n",
    "model.fit(X_train, y_train, batch_size=128, epochs=10, verbose=1, validation_data=(X_test, y_test))\n",
    "\n",
    "# テストデータでCNNの性能を評価\n",
    "score = model.evaluate(X_test, y_test, verbose=0)\n",
    "print('Test loss:', score[0])\n",
    "print('Test accuracy:', score[1])\n",
    "\n"
   ]
  },
  {
   "cell_type": "code",
   "execution_count": 3,
   "id": "79c44b86",
   "metadata": {},
   "outputs": [],
   "source": [
    "cdcgan_img = np.load(\"./gen_imgs.npy\")\n",
    "cdcgan_label = np.load(\"./labels_to_generate.npy\")"
   ]
  },
  {
   "cell_type": "code",
   "execution_count": 4,
   "id": "f674c05a",
   "metadata": {},
   "outputs": [
    {
     "data": {
      "text/plain": [
       "(10000, 28, 28, 1)"
      ]
     },
     "execution_count": 4,
     "metadata": {},
     "output_type": "execute_result"
    }
   ],
   "source": [
    "cdcgan_img.shape"
   ]
  },
  {
   "cell_type": "code",
   "execution_count": 5,
   "id": "4cd57256",
   "metadata": {},
   "outputs": [
    {
     "data": {
      "text/plain": [
       "(10000, 10)"
      ]
     },
     "execution_count": 5,
     "metadata": {},
     "output_type": "execute_result"
    }
   ],
   "source": [
    "cdcgan_label.shape"
   ]
  },
  {
   "cell_type": "code",
   "execution_count": 6,
   "id": "a84b3f82",
   "metadata": {
    "scrolled": true
   },
   "outputs": [
    {
     "name": "stdout",
     "output_type": "stream",
     "text": [
      "Test loss: 110.36707305908203\n",
      "Test accuracy: 0.8134999871253967\n"
     ]
    }
   ],
   "source": [
    "score = model.evaluate(cdcgan_img, cdcgan_label, verbose=0)\n",
    "print('Test loss:', score[0])\n",
    "print('Test accuracy:', score[1])"
   ]
  }
 ],
 "metadata": {
  "kernelspec": {
   "display_name": "Python 3 (ipykernel)",
   "language": "python",
   "name": "python3"
  },
  "language_info": {
   "codemirror_mode": {
    "name": "ipython",
    "version": 3
   },
   "file_extension": ".py",
   "mimetype": "text/x-python",
   "name": "python",
   "nbconvert_exporter": "python",
   "pygments_lexer": "ipython3",
   "version": "3.8.13"
  }
 },
 "nbformat": 4,
 "nbformat_minor": 5
}
