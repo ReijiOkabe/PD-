{
 "cells": [
  {
   "cell_type": "code",
   "execution_count": 1,
   "id": "0c24c3de",
   "metadata": {},
   "outputs": [
    {
     "name": "stdout",
     "output_type": "stream",
     "text": [
      "Epoch 1/5\n",
      "1500/1500 [==============================] - 15s 10ms/step - loss: 0.1634 - accuracy: 0.9480 - val_loss: 0.0708 - val_accuracy: 0.9788\n",
      "Epoch 2/5\n",
      "1500/1500 [==============================] - 14s 9ms/step - loss: 0.0500 - accuracy: 0.9836 - val_loss: 0.0637 - val_accuracy: 0.9816\n",
      "Epoch 3/5\n",
      "1500/1500 [==============================] - 14s 9ms/step - loss: 0.0340 - accuracy: 0.9889 - val_loss: 0.0330 - val_accuracy: 0.9907\n",
      "Epoch 4/5\n",
      "1500/1500 [==============================] - 15s 10ms/step - loss: 0.0263 - accuracy: 0.9919 - val_loss: 0.0555 - val_accuracy: 0.9849\n",
      "Epoch 5/5\n",
      "1500/1500 [==============================] - 18s 12ms/step - loss: 0.0210 - accuracy: 0.9931 - val_loss: 0.0315 - val_accuracy: 0.9913\n",
      "Test loss: 0.027242889627814293\n",
      "Test accuracy: 0.9926000237464905\n"
     ]
    }
   ],
   "source": [
    "import tensorflow as tf\n",
    "from tensorflow import keras\n",
    "from tensorflow.keras import layers\n",
    "import numpy as np\n",
    "import matplotlib.pyplot as plt\n",
    "from tensorflow.keras.models import Sequential\n",
    "from tensorflow.keras.layers import Conv2D, MaxPooling2D, Flatten, Dense\n",
    "\n",
    "\n",
    "# MNISTデータの読み込み\n",
    "(x_train, y_train), (x_test, y_test) = keras.datasets.mnist.load_data()\n",
    "\n",
    "# データの前処理\n",
    "x_train = x_train.astype('float32') / 255.0\n",
    "x_test = x_test.astype('float32') / 255.0\n",
    "x_train = x_train.reshape((x_train.shape[0], 28, 28, 1))\n",
    "x_test = x_test.reshape((x_test.shape[0], 28, 28, 1))\n",
    "\n",
    "# モデルの構築\n",
    "model = Sequential([\n",
    "    Conv2D(32, kernel_size=(3, 3), activation='relu', input_shape=(28, 28, 1)),\n",
    "    MaxPooling2D(pool_size=(2, 2)),\n",
    "    Conv2D(64, kernel_size=(3, 3), activation='relu'),\n",
    "    MaxPooling2D(pool_size=(2, 2)),\n",
    "    Conv2D(64, (3, 3), activation='relu'),\n",
    "    Flatten(),\n",
    "    Dense(128, activation='relu'),\n",
    "    Dense(10, activation='softmax')\n",
    "])\n",
    "\n",
    "model.compile(optimizer='adam', loss='sparse_categorical_crossentropy', metrics=['accuracy'])\n",
    "\n",
    "# モデルの学習\n",
    "model.fit(x_train, y_train, epochs=5, validation_split=0.2)\n",
    "\n",
    "# テストデータでCNNの性能を評価\n",
    "score = model.evaluate(x_test, y_test, verbose=0)\n",
    "print('Test loss:', score[0])\n",
    "print('Test accuracy:', score[1])"
   ]
  },
  {
   "cell_type": "code",
   "execution_count": 2,
   "id": "93f96fac",
   "metadata": {},
   "outputs": [
    {
     "data": {
      "text/plain": [
       "<matplotlib.image.AxesImage at 0x244b6658ee0>"
      ]
     },
     "execution_count": 2,
     "metadata": {},
     "output_type": "execute_result"
    },
    {
     "data": {
      "image/png": "[encoded data removed]",
      "text/plain": [
       "<Figure size 640x480 with 1 Axes>"
      ]
     },
     "metadata": {},
     "output_type": "display_data"
    }
   ],
   "source": [
    "def fgsm_attack(image, epsilon, data_grad):\n",
    "    perturbed_image = image + epsilon * data_grad\n",
    "    perturbed_image = np.clip(perturbed_image, 0, 1)\n",
    "    return perturbed_image\n",
    "\n",
    "def generate_adversarial_examples(model, images, labels, epsilon=0.01):\n",
    "    images = tf.convert_to_tensor(images)\n",
    "    labels = tf.convert_to_tensor(labels)\n",
    "\n",
    "    with tf.GradientTape() as tape:\n",
    "        tape.watch(images)\n",
    "        predictions = model(images)\n",
    "        loss = keras.losses.sparse_categorical_crossentropy(labels, predictions)\n",
    "\n",
    "    gradient = tape.gradient(loss, images)\n",
    "    gradient_sign = tf.sign(gradient)\n",
    "    adv_images = fgsm_attack(images, epsilon, gradient_sign)\n",
    "\n",
    "    return adv_images  # .numpy()メソッド不要\n",
    "\n",
    "# テストデータに対する敵対的攻撃の実行\n",
    "epsilon = 0.25\n",
    "adversarial_images = generate_adversarial_examples(model, x_test, y_test, epsilon)\n",
    "\n",
    "# 結果の可視化\n",
    "plt.imshow(np.squeeze(adversarial_images[1]), cmap='gray') "
   ]
  },
  {
   "cell_type": "code",
   "execution_count": 3,
   "id": "452f8860",
   "metadata": {},
   "outputs": [
    {
     "data": {
      "text/plain": [
       "<matplotlib.image.AxesImage at 0x244b7d5e310>"
      ]
     },
     "execution_count": 3,
     "metadata": {},
     "output_type": "execute_result"
    },
    {
     "data": {
      "image/png": "[encoded data removed]",
      "text/plain": [
       "<Figure size 640x480 with 1 Axes>"
      ]
     },
     "metadata": {},
     "output_type": "display_data"
    }
   ],
   "source": [
    "plt.imshow(np.squeeze(x_test[1]), cmap='gray')"
   ]
  },
  {
   "cell_type": "code",
   "execution_count": 4,
   "id": "9d47fa4a",
   "metadata": {},
   "outputs": [
    {
     "name": "stdout",
     "output_type": "stream",
     "text": [
      "313/313 [==============================] - 2s 5ms/step - loss: 0.0272 - accuracy: 0.9926\n"
     ]
    }
   ],
   "source": [
    "#元の画像の成功率\n",
    "test_loss, test_acc =model.evaluate(x_test, y_test)  "
   ]
  },
  {
   "cell_type": "code",
   "execution_count": 5,
   "id": "74e6bfb8",
   "metadata": {},
   "outputs": [
    {
     "name": "stdout",
     "output_type": "stream",
     "text": [
      "313/313 [==============================] - 2s 5ms/step - loss: 2.6702 - accuracy: 0.3513\n"
     ]
    }
   ],
   "source": [
    "#FGSMの成功率\n",
    "fgsm_loss, fgsm_acc =model.evaluate(adversarial_images, y_test)  "
   ]
  },
  {
   "cell_type": "code",
   "execution_count": 6,
   "id": "2584072a",
   "metadata": {},
   "outputs": [],
   "source": [
    "np.save('./adversarial_images.npy', adversarial_images)"
   ]
  },
  {
   "cell_type": "code",
   "execution_count": 7,
   "id": "9ad1ff5d",
   "metadata": {},
   "outputs": [],
   "source": [
    "cdcgan_img = np.load(\"cdcgan_imgs.npy\")\n",
    "cdcgan_label = np.load(\"cdcgan_labels.npy\")"
   ]
  },
  {
   "cell_type": "code",
   "execution_count": 8,
   "id": "e1ac56de",
   "metadata": {},
   "outputs": [
    {
     "data": {
      "text/plain": [
       "(10000, 28, 28, 1)"
      ]
     },
     "execution_count": 8,
     "metadata": {},
     "output_type": "execute_result"
    }
   ],
   "source": [
    "cdcgan_img.shape"
   ]
  },
  {
   "cell_type": "code",
   "execution_count": 9,
   "id": "b40859aa",
   "metadata": {},
   "outputs": [
    {
     "data": {
      "text/plain": [
       "(10000,)"
      ]
     },
     "execution_count": 9,
     "metadata": {},
     "output_type": "execute_result"
    }
   ],
   "source": [
    "cdcgan_label=np.argmax(cdcgan_label,axis=1)\n",
    "cdcgan_label.shape"
   ]
  },
  {
   "cell_type": "code",
   "execution_count": 10,
   "id": "ffbd16e6",
   "metadata": {},
   "outputs": [
    {
     "name": "stdout",
     "output_type": "stream",
     "text": [
      "313/313 [==============================] - 2s 5ms/step - loss: 0.3429 - accuracy: 0.9217\n"
     ]
    }
   ],
   "source": [
    "#CDCGANの成功率\n",
    "test_loss, test_acc =model.evaluate(cdcgan_img, cdcgan_label) "
   ]
  }
 ],
 "metadata": {
  "kernelspec": {
   "display_name": "Python 3 (ipykernel)",
   "language": "python",
   "name": "python3"
  },
  "language_info": {
   "codemirror_mode": {
    "name": "ipython",
    "version": 3
   },
   "file_extension": ".py",
   "mimetype": "text/x-python",
   "name": "python",
   "nbconvert_exporter": "python",
   "pygments_lexer": "ipython3",
   "version": "3.8.13"
  }
 },
 "nbformat": 4,
 "nbformat_minor": 5
}
