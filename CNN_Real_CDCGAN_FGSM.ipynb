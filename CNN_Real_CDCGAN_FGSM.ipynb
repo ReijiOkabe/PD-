{
 "cells": [
  {
   "cell_type": "code",
   "execution_count": 1,
   "id": "0c24c3de",
   "metadata": {},
   "outputs": [
    {
     "name": "stdout",
     "output_type": "stream",
     "text": [
      "Epoch 1/5\n",
      "1500/1500 [==============================] - 27s 17ms/step - loss: 0.1537 - accuracy: 0.9518 - val_loss: 0.0757 - val_accuracy: 0.9784\n",
      "Epoch 2/5\n",
      "1500/1500 [==============================] - 26s 17ms/step - loss: 0.0482 - accuracy: 0.9851 - val_loss: 0.0419 - val_accuracy: 0.9883\n",
      "Epoch 3/5\n",
      "1500/1500 [==============================] - 25s 17ms/step - loss: 0.0331 - accuracy: 0.9896 - val_loss: 0.0389 - val_accuracy: 0.9884\n",
      "Epoch 4/5\n",
      "1500/1500 [==============================] - 24s 16ms/step - loss: 0.0261 - accuracy: 0.9919 - val_loss: 0.0543 - val_accuracy: 0.9862\n",
      "Epoch 5/5\n",
      "1500/1500 [==============================] - 17s 11ms/step - loss: 0.0192 - accuracy: 0.9939 - val_loss: 0.0456 - val_accuracy: 0.9889\n",
      "Test loss: 0.033623769879341125\n",
      "Test accuracy: 0.9902999997138977\n"
     ]
    }
   ],
   "source": [
    "import tensorflow as tf\n",
    "from tensorflow import keras\n",
    "from tensorflow.keras import layers\n",
    "import numpy as np\n",
    "import matplotlib.pyplot as plt\n",
    "from tensorflow.keras.models import Sequential\n",
    "from tensorflow.keras.layers import Conv2D, MaxPooling2D, Flatten, Dense\n",
    "\n",
    "\n",
    "# MNISTデータの読み込み\n",
    "(x_train, y_train), (x_test, y_test) = keras.datasets.mnist.load_data()\n",
    "\n",
    "# データの前処理\n",
    "x_train = x_train.astype('float32') / 255.0\n",
    "x_test = x_test.astype('float32') / 255.0\n",
    "x_train = x_train.reshape((x_train.shape[0], 28, 28, 1))\n",
    "x_test = x_test.reshape((x_test.shape[0], 28, 28, 1))\n",
    "\n",
    "# モデルの構築\n",
    "model = Sequential([\n",
    "    Conv2D(32, kernel_size=(3, 3), activation='relu', input_shape=(28, 28, 1)),\n",
    "    MaxPooling2D(pool_size=(2, 2)),\n",
    "    Conv2D(64, kernel_size=(3, 3), activation='relu'),\n",
    "    MaxPooling2D(pool_size=(2, 2)),\n",
    "    Conv2D(64, (3, 3), activation='relu'),\n",
    "    Flatten(),\n",
    "    Dense(128, activation='relu'),\n",
    "    Dense(10, activation='softmax')\n",
    "])\n",
    "\n",
    "model.compile(optimizer='adam', loss='sparse_categorical_crossentropy', metrics=['accuracy'])\n",
    "\n",
    "# モデルの学習\n",
    "history = model.fit(x_train, y_train, epochs=5, validation_split=0.2)\n",
    "\n",
    "# テストデータでCNNの性能を評価\n",
    "score = model.evaluate(x_test, y_test, verbose=0)\n",
    "print('Test loss:', score[0])\n",
    "print('Test accuracy:', score[1])"
   ]
  },
  {
   "cell_type": "code",
   "execution_count": 2,
   "id": "dbf01120",
   "metadata": {},
   "outputs": [
    {
     "data": {
      "text/plain": [
       "[0.9517916440963745,\n",
       " 0.9851458072662354,\n",
       " 0.9895833134651184,\n",
       " 0.991895854473114,\n",
       " 0.9938958287239075]"
      ]
     },
     "execution_count": 2,
     "metadata": {},
     "output_type": "execute_result"
    }
   ],
   "source": [
    "# 学習時の正解率を表示\n",
    "history.history['accuracy']"
   ]
  },
  {
   "cell_type": "code",
   "execution_count": 3,
   "id": "93f96fac",
   "metadata": {},
   "outputs": [
    {
     "data": {
      "text/plain": [
       "<matplotlib.image.AxesImage at 0x2035e28b580>"
      ]
     },
     "execution_count": 3,
     "metadata": {},
     "output_type": "execute_result"
    },
    {
     "data": {
      "image/png": "[encoded data removed]",
      "text/plain": [
       "<Figure size 640x480 with 1 Axes>"
      ]
     },
     "metadata": {},
     "output_type": "display_data"
    }
   ],
   "source": [
    "def fgsm_attack(image, epsilon, data_grad):\n",
    "    perturbed_image = image + epsilon * data_grad\n",
    "    perturbed_image = np.clip(perturbed_image, 0, 1)\n",
    "    return perturbed_image\n",
    "\n",
    "def generate_adversarial_examples(model, images, labels, epsilon=0.01):\n",
    "    images = tf.convert_to_tensor(images)\n",
    "    labels = tf.convert_to_tensor(labels)\n",
    "\n",
    "    with tf.GradientTape() as tape:\n",
    "        tape.watch(images)\n",
    "        predictions = model(images)\n",
    "        loss = keras.losses.sparse_categorical_crossentropy(labels, predictions)\n",
    "\n",
    "    gradient = tape.gradient(loss, images)\n",
    "    gradient_sign = tf.sign(gradient)\n",
    "    adv_images = fgsm_attack(images, epsilon, gradient_sign)\n",
    "\n",
    "    return adv_images  # .numpy()メソッド不要\n",
    "\n",
    "# テストデータに対する敵対的攻撃の実行\n",
    "epsilon = 0.25\n",
    "adversarial_images = generate_adversarial_examples(model, x_test, y_test, epsilon)\n",
    "\n",
    "# 結果の可視化\n",
    "plt.axis('off')\n",
    "plt.imshow(np.squeeze(adversarial_images[1]), cmap='gray') "
   ]
  },
  {
   "cell_type": "code",
   "execution_count": 4,
   "id": "452f8860",
   "metadata": {},
   "outputs": [
    {
     "data": {
      "text/plain": [
       "<matplotlib.image.AxesImage at 0x203000267f0>"
      ]
     },
     "execution_count": 4,
     "metadata": {},
     "output_type": "execute_result"
    },
    {
     "data": {
      "image/png": "[encoded data removed]",
      "text/plain": [
       "<Figure size 640x480 with 1 Axes>"
      ]
     },
     "metadata": {},
     "output_type": "display_data"
    }
   ],
   "source": [
    "plt.axis('off')\n",
    "plt.imshow(np.squeeze(x_test[1]), cmap='gray')"
   ]
  },
  {
   "cell_type": "code",
   "execution_count": 5,
   "id": "74e6bfb8",
   "metadata": {},
   "outputs": [
    {
     "name": "stdout",
     "output_type": "stream",
     "text": [
      "313/313 [==============================] - 1s 3ms/step - loss: 2.8039 - accuracy: 0.3585\n"
     ]
    }
   ],
   "source": [
    "#FGSMの成功率\n",
    "fgsm_loss, fgsm_acc =model.evaluate(adversarial_images, y_test)  "
   ]
  },
  {
   "cell_type": "code",
   "execution_count": 6,
   "id": "2584072a",
   "metadata": {},
   "outputs": [],
   "source": [
    "np.save('./adversarial_images.npy', adversarial_images)"
   ]
  },
  {
   "cell_type": "code",
   "execution_count": 7,
   "id": "9ad1ff5d",
   "metadata": {},
   "outputs": [],
   "source": [
    "cdcgan_img = np.load(\"cdcgan_imgs.npy\")\n",
    "cdcgan_label = np.load(\"cdcgan_labels.npy\")"
   ]
  },
  {
   "cell_type": "code",
   "execution_count": 8,
   "id": "e1ac56de",
   "metadata": {},
   "outputs": [
    {
     "data": {
      "text/plain": [
       "(10000, 28, 28, 1)"
      ]
     },
     "execution_count": 8,
     "metadata": {},
     "output_type": "execute_result"
    }
   ],
   "source": [
    "cdcgan_img.shape"
   ]
  },
  {
   "cell_type": "code",
   "execution_count": 9,
   "id": "b40859aa",
   "metadata": {},
   "outputs": [
    {
     "data": {
      "text/plain": [
       "(10000,)"
      ]
     },
     "execution_count": 9,
     "metadata": {},
     "output_type": "execute_result"
    }
   ],
   "source": [
    "cdcgan_label=np.argmax(cdcgan_label,axis=1)\n",
    "cdcgan_label.shape"
   ]
  },
  {
   "cell_type": "code",
   "execution_count": 10,
   "id": "ffbd16e6",
   "metadata": {
    "scrolled": true
   },
   "outputs": [
    {
     "name": "stdout",
     "output_type": "stream",
     "text": [
      "313/313 [==============================] - 1s 4ms/step - loss: 0.3770 - accuracy: 0.9203\n"
     ]
    }
   ],
   "source": [
    "#CDCGANの成功率\n",
    "test_loss, test_acc =model.evaluate(cdcgan_img, cdcgan_label) "
   ]
  },
  {
   "cell_type": "code",
   "execution_count": 11,
   "id": "7cc1ee7e",
   "metadata": {},
   "outputs": [
    {
     "data": {
      "text/plain": [
       "<matplotlib.image.AxesImage at 0x2030071b970>"
      ]
     },
     "execution_count": 11,
     "metadata": {},
     "output_type": "execute_result"
    },
    {
     "data": {
      "image/png": "[encoded data removed]",
      "text/plain": [
       "<Figure size 640x480 with 1 Axes>"
      ]
     },
     "metadata": {},
     "output_type": "display_data"
    }
   ],
   "source": [
    "plt.axis('off')\n",
    "plt.imshow(np.squeeze(cdcgan_img[2024]), cmap='gray')"
   ]
  }
 ],
 "metadata": {
  "kernelspec": {
   "display_name": "Python 3 (ipykernel)",
   "language": "python",
   "name": "python3"
  },
  "language_info": {
   "codemirror_mode": {
    "name": "ipython",
    "version": 3
   },
   "file_extension": ".py",
   "mimetype": "text/x-python",
   "name": "python",
   "nbconvert_exporter": "python",
   "pygments_lexer": "ipython3",
   "version": "3.8.13"
  }
 },
 "nbformat": 4,
 "nbformat_minor": 5
}
