{
 "cells": [
  {
   "cell_type": "code",
   "execution_count": 23,
   "id": "75f3ccba",
   "metadata": {},
   "outputs": [
    {
     "name": "stdout",
     "output_type": "stream",
     "text": [
      "Requirement already satisfied: adversarial-robustness-toolbox in c:\\users\\okabe\\anaconda3\\lib\\site-packages (1.16.0)\n",
      "Requirement already satisfied: six in c:\\users\\okabe\\anaconda3\\lib\\site-packages (from adversarial-robustness-toolbox) (1.16.0)\n",
      "Requirement already satisfied: scipy>=1.4.1 in c:\\users\\okabe\\anaconda3\\lib\\site-packages (from adversarial-robustness-toolbox) (1.9.3)\n",
      "Requirement already satisfied: scikit-learn<1.2.0,>=0.22.2 in c:\\users\\okabe\\anaconda3\\lib\\site-packages (from adversarial-robustness-toolbox) (1.1.3)\n",
      "Requirement already satisfied: setuptools in c:\\users\\okabe\\anaconda3\\lib\\site-packages (from adversarial-robustness-toolbox) (65.5.0)\n",
      "Requirement already satisfied: numpy>=1.18.0 in c:\\users\\okabe\\anaconda3\\lib\\site-packages (from adversarial-robustness-toolbox) (1.23.5)\n",
      "Requirement already satisfied: tqdm in c:\\users\\okabe\\anaconda3\\lib\\site-packages (from adversarial-robustness-toolbox) (4.64.1)\n",
      "Requirement already satisfied: threadpoolctl>=2.0.0 in c:\\users\\okabe\\anaconda3\\lib\\site-packages (from scikit-learn<1.2.0,>=0.22.2->adversarial-robustness-toolbox) (3.1.0)\n",
      "Requirement already satisfied: joblib>=1.0.0 in c:\\users\\okabe\\anaconda3\\lib\\site-packages (from scikit-learn<1.2.0,>=0.22.2->adversarial-robustness-toolbox) (1.2.0)\n",
      "Requirement already satisfied: colorama in c:\\users\\okabe\\anaconda3\\lib\\site-packages (from tqdm->adversarial-robustness-toolbox) (0.4.5)\n"
     ]
    },
    {
     "name": "stderr",
     "output_type": "stream",
     "text": [
      "WARNING: Ignoring invalid distribution -rotobuf (c:\\users\\okabe\\anaconda3\\lib\\site-packages)\n",
      "WARNING: Ignoring invalid distribution -atplotlib (c:\\users\\okabe\\anaconda3\\lib\\site-packages)\n",
      "WARNING: Ignoring invalid distribution -rotobuf (c:\\users\\okabe\\anaconda3\\lib\\site-packages)\n",
      "WARNING: Ignoring invalid distribution -atplotlib (c:\\users\\okabe\\anaconda3\\lib\\site-packages)\n",
      "WARNING: Ignoring invalid distribution -rotobuf (c:\\users\\okabe\\anaconda3\\lib\\site-packages)\n",
      "WARNING: Ignoring invalid distribution -atplotlib (c:\\users\\okabe\\anaconda3\\lib\\site-packages)\n",
      "WARNING: Ignoring invalid distribution -rotobuf (c:\\users\\okabe\\anaconda3\\lib\\site-packages)\n",
      "WARNING: Ignoring invalid distribution -atplotlib (c:\\users\\okabe\\anaconda3\\lib\\site-packages)\n",
      "WARNING: Ignoring invalid distribution -rotobuf (c:\\users\\okabe\\anaconda3\\lib\\site-packages)\n",
      "WARNING: Ignoring invalid distribution -atplotlib (c:\\users\\okabe\\anaconda3\\lib\\site-packages)\n",
      "WARNING: Ignoring invalid distribution -rotobuf (c:\\users\\okabe\\anaconda3\\lib\\site-packages)\n",
      "WARNING: Ignoring invalid distribution -atplotlib (c:\\users\\okabe\\anaconda3\\lib\\site-packages)\n"
     ]
    }
   ],
   "source": [
    "# ARTのインストール。\n",
    "!pip3 install adversarial-robustness-toolbox"
   ]
  },
  {
   "cell_type": "code",
   "execution_count": 75,
   "id": "ef1df234",
   "metadata": {},
   "outputs": [],
   "source": [
    "import tensorflow as tf\n",
    "from tensorflow import keras\n",
    "import matplotlib.pyplot as plt\n",
    "import numpy as np\n",
    "\n",
    "import tensorflow as tf\n",
    "    \n",
    "tf.compat.v1.disable_eager_execution()\n",
    "\n",
    "from art.defences.trainer import AdversarialTrainer\n",
    "from art.attacks.evasion import FastGradientMethod\n",
    "from art.estimators.classification import KerasClassifier\n",
    "\n",
    "# MNISTデータセットをロード\n",
    "mnist = keras.datasets.mnist\n",
    "(x_train, y_train), (x_test, y_test) = mnist.load_data()\n",
    "x_train = x_train.astype('float32')  / 255.0\n",
    "x_test=x_test.astype('float32')/255.0\n",
    "x_train = x_train.reshape(x_train.shape[0], 28, 28, 1)\n",
    "x_test = x_test.reshape(x_test.shape[0], 28, 28, 1)\n",
    "y_train = tf.keras.utils.to_categorical(y_train, 10)\n",
    "y_test = tf.keras.utils.to_categorical(y_test, 10)\n",
    "\n",
    "# ニューラルネットワークモデルの定義\n",
    "model = keras.Sequential([\n",
    "    keras.layers.Conv2D(32, kernel_size=(3, 3), activation='relu', input_shape=(28, 28, 1)),\n",
    "    keras.layers.MaxPooling2D(pool_size=(2, 2)),\n",
    "    keras.layers.Conv2D(64, kernel_size=(3, 3), activation='relu'),\n",
    "    keras.layers.MaxPooling2D(pool_size=(2, 2)),\n",
    "    keras.layers.Flatten(),\n",
    "    keras.layers.Dense(128, activation='relu'),\n",
    "    keras.layers.Dense(10, activation='softmax')\n",
    "\n",
    "])\n",
    "\n",
    "# モデルのコンパイル\n",
    "model.compile(optimizer='adam',\n",
    "              loss='categorical_crossentropy',\n",
    "              metrics=['accuracy'])"
   ]
  },
  {
   "cell_type": "code",
   "execution_count": 34,
   "id": "2903c20d",
   "metadata": {},
   "outputs": [
    {
     "name": "stdout",
     "output_type": "stream",
     "text": [
      "Done.\n"
     ]
    }
   ],
   "source": [
    "classifier = KerasClassifier(model=model, clip_values=(0,1), use_logits=False)\n",
    "\n",
    "print('Done.')"
   ]
  },
  {
   "cell_type": "code",
   "execution_count": 35,
   "id": "516597f8",
   "metadata": {},
   "outputs": [
    {
     "name": "stdout",
     "output_type": "stream",
     "text": [
      "Train on 60000 samples, validate on 10000 samples\n",
      "Epoch 1/10\n",
      "59776/60000 [============================>.] - ETA: 0s - loss: 0.2156 - accuracy: 0.9382"
     ]
    },
    {
     "name": "stderr",
     "output_type": "stream",
     "text": [
      "C:\\Users\\okabe\\anaconda3\\lib\\site-packages\\keras\\engine\\training_v1.py:2332: UserWarning: `Model.state_updates` will be removed in a future version. This property should not be used in TensorFlow 2.0, as `updates` are applied automatically.\n",
      "  updates = self.state_updates\n"
     ]
    },
    {
     "name": "stdout",
     "output_type": "stream",
     "text": [
      "60000/60000 [==============================] - 14s 234us/sample - loss: 0.2150 - accuracy: 0.9384 - val_loss: 0.0608 - val_accuracy: 0.9813\n",
      "Epoch 2/10\n",
      "60000/60000 [==============================] - 14s 237us/sample - loss: 0.0565 - accuracy: 0.9830 - val_loss: 0.0410 - val_accuracy: 0.9862\n",
      "Epoch 3/10\n",
      "60000/60000 [==============================] - 15s 248us/sample - loss: 0.0405 - accuracy: 0.9874 - val_loss: 0.0330 - val_accuracy: 0.9874\n",
      "Epoch 4/10\n",
      "60000/60000 [==============================] - 14s 238us/sample - loss: 0.0287 - accuracy: 0.9909 - val_loss: 0.0348 - val_accuracy: 0.9890\n",
      "Epoch 5/10\n",
      "60000/60000 [==============================] - 15s 250us/sample - loss: 0.0225 - accuracy: 0.9930 - val_loss: 0.0324 - val_accuracy: 0.9897\n",
      "Epoch 6/10\n",
      "60000/60000 [==============================] - 15s 242us/sample - loss: 0.0180 - accuracy: 0.9943 - val_loss: 0.0331 - val_accuracy: 0.9899\n",
      "Epoch 7/10\n",
      "60000/60000 [==============================] - 15s 249us/sample - loss: 0.0151 - accuracy: 0.9952 - val_loss: 0.0308 - val_accuracy: 0.9903\n",
      "Epoch 8/10\n",
      "60000/60000 [==============================] - 15s 248us/sample - loss: 0.0122 - accuracy: 0.9961 - val_loss: 0.0324 - val_accuracy: 0.9906\n",
      "Epoch 9/10\n",
      "60000/60000 [==============================] - 15s 250us/sample - loss: 0.0099 - accuracy: 0.9967 - val_loss: 0.0284 - val_accuracy: 0.9920\n",
      "Epoch 10/10\n",
      "60000/60000 [==============================] - 15s 247us/sample - loss: 0.0097 - accuracy: 0.9969 - val_loss: 0.0371 - val_accuracy: 0.9905\n"
     ]
    }
   ],
   "source": [
    "classifier.fit(x_train, y_train, batch_size=128, nb_epochs=10, verbose=1, validation_data=(x_test, y_test),shuffle=True)"
   ]
  },
  {
   "cell_type": "code",
   "execution_count": 36,
   "id": "b8de9260",
   "metadata": {},
   "outputs": [
    {
     "name": "stderr",
     "output_type": "stream",
     "text": [
      "C:\\Users\\okabe\\anaconda3\\lib\\site-packages\\keras\\engine\\training_v1.py:2356: UserWarning: `Model.state_updates` will be removed in a future version. This property should not be used in TensorFlow 2.0, as `updates` are applied automatically.\n",
      "  updates=self.state_updates,\n"
     ]
    },
    {
     "name": "stdout",
     "output_type": "stream",
     "text": [
      "Accuracy on benign test example: 99.05000000000001%\n"
     ]
    }
   ],
   "source": [
    "predictions = classifier.predict(x_test)\n",
    "accuracy = np.sum(np.argmax(predictions, axis=1) == np.argmax(y_test, axis=1)) / len(y_test)\n",
    "print('Accuracy on benign test example: {}%'.format(accuracy * 100))"
   ]
  },
  {
   "cell_type": "code",
   "execution_count": 63,
   "id": "41d1b935",
   "metadata": {},
   "outputs": [],
   "source": [
    "attack = FastGradientMethod(estimator=classifier, eps=0.25)\n",
    "# 敵対的サンプルの生成（ベース画像はテストデータとする）。\n",
    "X_test_adv = attack.generate(x=x_test)"
   ]
  },
  {
   "cell_type": "code",
   "execution_count": 64,
   "id": "693915a1",
   "metadata": {},
   "outputs": [
    {
     "name": "stdout",
     "output_type": "stream",
     "text": [
      "Accuracy on Adversarial Exmaples: 0.3741%\n"
     ]
    }
   ],
   "source": [
    "all_preds = classifier.predict(X_test_adv)\n",
    "accuracy = np.sum(np.argmax(all_preds, axis=1) == np.argmax(y_test, axis=1)) / len(y_test)\n",
    "print('Accuracy on Adversarial Exmaples: {}%'.format(accuracy))"
   ]
  },
  {
   "cell_type": "code",
   "execution_count": 65,
   "id": "b3de98fb",
   "metadata": {},
   "outputs": [
    {
     "name": "stdout",
     "output_type": "stream",
     "text": [
      "True label: \"[9]\"\n",
      "Prediction: \"[9]\"\n",
      "Done.\n"
     ]
    },
    {
     "data": {
      "image/png": "[encoded data removed]",
      "text/plain": [
       "<Figure size 640x480 with 1 Axes>"
      ]
     },
     "metadata": {},
     "output_type": "display_data"
    }
   ],
   "source": [
    "# 正常なデータ（摂動が加えられる前のデータ）。\n",
    "target_index = 7\n",
    "plt.imshow(x_test[target_index], cmap='gray')\n",
    "\n",
    "# 正常データの推論\n",
    "pred = classifier.predict(x_test[target_index][np.newaxis, ...])\n",
    "\n",
    "# 推論結果の表示。\n",
    "print('True label: \"{}\"\\nPrediction: \"{}\"'.format([np.argmax(y_test[target_index])], [np.argmax(pred)]))\n",
    "\n",
    "print('Done.')"
   ]
  },
  {
   "cell_type": "code",
   "execution_count": 66,
   "id": "08e9a279",
   "metadata": {
    "scrolled": true
   },
   "outputs": [
    {
     "name": "stdout",
     "output_type": "stream",
     "text": [
      "True label: \"[9]\"\n",
      "Prediction: \"[8]\"\n",
      "Done.\n"
     ]
    },
    {
     "data": {
      "image/png": "[encoded data removed]",
      "text/plain": [
       "<Figure size 640x480 with 1 Axes>"
      ]
     },
     "metadata": {},
     "output_type": "display_data"
    }
   ],
   "source": [
    "plt.imshow(X_test_adv[target_index], cmap='gray')\n",
    "\n",
    "# 敵対的サンプルの推論。\n",
    "pred_adv = classifier.predict(X_test_adv[target_index][np.newaxis, ...])\n",
    "\n",
    "# 推論結果の表示。\n",
    "print('True label: \"{}\"\\nPrediction: \"{}\"'.format([np.argmax(y_test[target_index])], [np.argmax(pred_adv)]))\n",
    "\n",
    "print('Done.')"
   ]
  }
 ],
 "metadata": {
  "kernelspec": {
   "display_name": "Python 3 (ipykernel)",
   "language": "python",
   "name": "python3"
  },
  "language_info": {
   "codemirror_mode": {
    "name": "ipython",
    "version": 3
   },
   "file_extension": ".py",
   "mimetype": "text/x-python",
   "name": "python",
   "nbconvert_exporter": "python",
   "pygments_lexer": "ipython3",
   "version": "3.8.13"
  }
 },
 "nbformat": 4,
 "nbformat_minor": 5
}
