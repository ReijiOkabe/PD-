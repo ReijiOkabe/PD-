{
 "cells": [
  {
   "cell_type": "code",
   "execution_count": 1,
   "id": "72f11ff4",
   "metadata": {},
   "outputs": [
    {
     "name": "stdout",
     "output_type": "stream",
     "text": [
      "Epoch 1/5\n",
      "1500/1500 [==============================] - 22s 14ms/step - loss: 0.1539 - accuracy: 0.9525 - val_loss: 0.0568 - val_accuracy: 0.9804\n",
      "Epoch 2/5\n",
      "1500/1500 [==============================] - 16s 10ms/step - loss: 0.0471 - accuracy: 0.9848 - val_loss: 0.0530 - val_accuracy: 0.9849\n",
      "Epoch 3/5\n",
      "1500/1500 [==============================] - 16s 11ms/step - loss: 0.0331 - accuracy: 0.9897 - val_loss: 0.0477 - val_accuracy: 0.9862\n",
      "Epoch 4/5\n",
      "1500/1500 [==============================] - 16s 11ms/step - loss: 0.0266 - accuracy: 0.9915 - val_loss: 0.0368 - val_accuracy: 0.9892\n",
      "Epoch 5/5\n",
      "1500/1500 [==============================] - 16s 11ms/step - loss: 0.0195 - accuracy: 0.9935 - val_loss: 0.0490 - val_accuracy: 0.9862\n"
     ]
    },
    {
     "data": {
      "text/plain": [
       "<keras.callbacks.History at 0x193e1b9e820>"
      ]
     },
     "execution_count": 1,
     "metadata": {},
     "output_type": "execute_result"
    }
   ],
   "source": [
    "import tensorflow as tf\n",
    "from tensorflow import keras\n",
    "from tensorflow.keras import layers\n",
    "import numpy as np\n",
    "import matplotlib.pyplot as plt\n",
    "from tensorflow.keras.models import Sequential\n",
    "from tensorflow.keras.layers import Conv2D, MaxPooling2D, Flatten, Dense\n",
    "\n",
    "\n",
    "# MNISTデータの読み込み\n",
    "(x_train, y_train), (x_test, y_test) = keras.datasets.mnist.load_data()\n",
    "\n",
    "# データの前処理\n",
    "x_train = x_train.astype('float32') / 255.0\n",
    "x_test = x_test.astype('float32') / 255.0\n",
    "x_train = x_train.reshape((x_train.shape[0], 28, 28, 1))\n",
    "x_test = x_test.reshape((x_test.shape[0], 28, 28, 1))\n",
    "\n",
    "# モデルの構築\n",
    "model = Sequential([\n",
    "    Conv2D(32, kernel_size=(3, 3), activation='relu', input_shape=(28, 28, 1)),\n",
    "    MaxPooling2D(pool_size=(2, 2)),\n",
    "    Conv2D(64, kernel_size=(3, 3), activation='relu'),\n",
    "    MaxPooling2D(pool_size=(2, 2)),\n",
    "    Conv2D(64, (3, 3), activation='relu'),\n",
    "    Flatten(),\n",
    "    Dense(128, activation='relu'),\n",
    "    Dense(10, activation='softmax')\n",
    "])\n",
    "\n",
    "model.compile(optimizer='adam', loss='sparse_categorical_crossentropy', metrics=['accuracy'])\n",
    "\n",
    "# モデルの学習\n",
    "model.fit(x_train, y_train, epochs=5, validation_split=0.2)\n"
   ]
  },
  {
   "cell_type": "code",
   "execution_count": 2,
   "id": "97681402",
   "metadata": {},
   "outputs": [],
   "source": [
    "cdcgan_img = np.load(\"cdcgan_imgs.npy\")\n",
    "cdcgan_label = np.load(\"cdcgan_labels.npy\")"
   ]
  },
  {
   "cell_type": "code",
   "execution_count": 3,
   "id": "d01f02f6",
   "metadata": {},
   "outputs": [
    {
     "name": "stdout",
     "output_type": "stream",
     "text": [
      "313/313 [==============================] - 1s 3ms/step - loss: 0.0383 - accuracy: 0.9886\n"
     ]
    },
    {
     "data": {
      "image/png": "[encoded data removed]",
      "text/plain": [
       "<Figure size 640x480 with 1 Axes>"
      ]
     },
     "metadata": {},
     "output_type": "display_data"
    }
   ],
   "source": [
    "import random\n",
    "#CDCGANの画像をノイズとして入力した場合\n",
    "def cdcgan_attack(image, epsilon, data_grad):\n",
    "    perturbed_image = image + epsilon * data_grad\n",
    "    perturbed_image = np.clip(perturbed_image, 0, 1)\n",
    "    return perturbed_image\n",
    "\n",
    "def generate_cdcgan_examples(images, labels, epsilon=0.01):\n",
    "    i = random.randint(0, 10000)\n",
    "    x_noise=cdcgan_img[i]\n",
    "    x_noise = np.expand_dims(x_noise, axis=0)\n",
    "    adv_images = cdcgan_attack(images, epsilon, x_noise)\n",
    "\n",
    "    return adv_images      # .numpy()メソッド不要\n",
    "\n",
    "# テストデータに対する敵対的攻撃の実行\n",
    "epsilon = 0.25\n",
    "cdcgan_images = generate_cdcgan_examples(x_test, y_test, epsilon)\n",
    "\n",
    "# 結果の可視化\n",
    "plt.axis('off')\n",
    "plt.imshow(np.squeeze(cdcgan_images[1]), cmap='gray') \n",
    "\n",
    "cdcgan_loss, cdcgan_acc =model.evaluate(cdcgan_images, y_test)  "
   ]
  },
  {
   "cell_type": "code",
   "execution_count": 4,
   "id": "5216807f",
   "metadata": {
    "scrolled": true
   },
   "outputs": [
    {
     "name": "stdout",
     "output_type": "stream",
     "text": [
      "313/313 [==============================] - 1s 3ms/step - loss: 0.0381 - accuracy: 0.9886\n"
     ]
    },
    {
     "data": {
      "image/png": "[encoded data removed]",
      "text/plain": [
       "<Figure size 640x480 with 1 Axes>"
      ]
     },
     "metadata": {},
     "output_type": "display_data"
    }
   ],
   "source": [
    "#ランダな画像をノイズとして入力した場合\n",
    "def random_attack(image, epsilon, data_grad):\n",
    "    perturbed_image = image + epsilon * data_grad\n",
    "    perturbed_image = np.clip(perturbed_image, 0, 1)\n",
    "    return perturbed_image\n",
    "\n",
    "def generate_random_examples(images, labels, epsilon=0.01):\n",
    "    x_noise=np.random.rand(28, 28, 1)\n",
    "    x_noise = np.expand_dims(x_noise, axis=0)\n",
    "    random_images = random_attack(images, epsilon, x_noise)\n",
    "\n",
    "    return random_images      # .numpy()メソッド不要\n",
    "\n",
    "# テストデーに対する敵対的攻撃の実行\n",
    "epsilon = 0.25\n",
    "random_images = generate_random_examples(x_test, y_test, epsilon)\n",
    "\n",
    "# 結果の可視化\n",
    "plt.axis('off')\n",
    "plt.imshow(np.squeeze(random_images[1]), cmap='gray')  \n",
    "\n",
    "random_loss, random_acc =model.evaluate(random_images, y_test)  "
   ]
  },
  {
   "cell_type": "code",
   "execution_count": 5,
   "id": "7240a0f1",
   "metadata": {},
   "outputs": [
    {
     "name": "stdout",
     "output_type": "stream",
     "text": [
      "313/313 [==============================] - 1s 3ms/step - loss: 0.0559 - accuracy: 0.9844\n"
     ]
    },
    {
     "data": {
      "image/png": "[encoded data removed]",
      "text/plain": [
       "<Figure size 640x480 with 1 Axes>"
      ]
     },
     "metadata": {},
     "output_type": "display_data"
    }
   ],
   "source": [
    "#本物の画像をノイズとして入力した場合\n",
    "def real_attack(image, epsilon, data_grad):\n",
    "    perturbed_image = image + epsilon * data_grad\n",
    "    perturbed_image = np.clip(perturbed_image, 0, 1)\n",
    "    return perturbed_image\n",
    "\n",
    "def generate_real_examples(images, labels, epsilon=0.01):\n",
    "    i = random.randint(0, 60000)\n",
    "    x_noise=x_train[i]\n",
    "    x_noise = np.expand_dims(x_noise, axis=0)\n",
    "    real_images = real_attack(images, epsilon, x_noise)\n",
    "    return real_images      # .numpy()メソッド不要\n",
    "\n",
    "# テストデーに対する敵対的攻撃の実行\n",
    "epsilon = 0.25\n",
    "real_images = generate_real_examples(x_test, y_test, epsilon)\n",
    "\n",
    "# 結果の可視化\n",
    "plt.axis('off')\n",
    "plt.imshow(np.squeeze(real_images[1]), cmap='gray')  \n",
    "\n",
    "real_loss, real_acc =model.evaluate(real_images, y_test)  "
   ]
  },
  {
   "cell_type": "code",
   "execution_count": 6,
   "id": "478efd94",
   "metadata": {},
   "outputs": [
    {
     "data": {
      "text/plain": [
       "<matplotlib.image.AxesImage at 0x193d45867c0>"
      ]
     },
     "execution_count": 6,
     "metadata": {},
     "output_type": "execute_result"
    },
    {
     "data": {
      "image/png": "[encoded data removed]",
      "text/plain": [
       "<Figure size 640x480 with 1 Axes>"
      ]
     },
     "metadata": {},
     "output_type": "display_data"
    }
   ],
   "source": [
    "plt.axis('off')\n",
    "plt.imshow((x_test[1]), cmap='gray')"
   ]
  }
 ],
 "metadata": {
  "kernelspec": {
   "display_name": "Python 3 (ipykernel)",
   "language": "python",
   "name": "python3"
  },
  "language_info": {
   "codemirror_mode": {
    "name": "ipython",
    "version": 3
   },
   "file_extension": ".py",
   "mimetype": "text/x-python",
   "name": "python",
   "nbconvert_exporter": "python",
   "pygments_lexer": "ipython3",
   "version": "3.8.13"
  }
 },
 "nbformat": 4,
 "nbformat_minor": 5
}
